{
 "cells": [
  {
   "cell_type": "code",
   "execution_count": 36,
   "metadata": {},
   "outputs": [],
   "source": [
    "import requests\n",
    "import json\n",
    "import pandas as pd"
   ]
  },
  {
   "cell_type": "code",
   "execution_count": 37,
   "metadata": {},
   "outputs": [],
   "source": [
    "ListofCities = [\"Mont Saint Michel\",\n",
    "\"St Malo\",\n",
    "\"Bayeux\",\n",
    "\"Le Havre\",\n",
    "\"Rouen\",\n",
    "\"Paris\",\n",
    "\"Amiens\",\n",
    "\"Lille\",\n",
    "\"Strasbourg\",\n",
    "\"Chateau du Haut Koenigsbourg\",\n",
    "\"Colmar\",\n",
    "\"Eguisheim\",\n",
    "\"Besancon\",\n",
    "\"Dijon\",\n",
    "\"Annecy\",\n",
    "\"Grenoble\",\n",
    "\"Lyon\",\n",
    "\"Gorges du Verdon\",\n",
    "\"Bormes les Mimosas\",\n",
    "\"Cassis\",\n",
    "\"Marseille\",\n",
    "\"Aix en Provence\",\n",
    "\"Avignon\",\n",
    "\"Uzes\",\n",
    "\"Nimes\",\n",
    "\"Aigues Mortes\",\n",
    "\"Saintes Maries de la mer\",\n",
    "\"Collioure\",\n",
    "\"Carcassonne\",\n",
    "\"Ariege\",\n",
    "\"Toulouse\",\n",
    "\"Montauban\",\n",
    "\"Biarritz\",\n",
    "\"Bayonne\",\n",
    "\"La Rochelle\"]\n"
   ]
  },
  {
   "cell_type": "code",
   "execution_count": 38,
   "metadata": {},
   "outputs": [
    {
     "name": "stdout",
     "output_type": "stream",
     "text": [
      "Mont Saint Michel\n",
      "St Malo\n",
      "Bayeux\n",
      "Le Havre\n",
      "Rouen\n",
      "Paris\n",
      "Amiens\n",
      "Lille\n",
      "Strasbourg\n",
      "Chateau du Haut Koenigsbourg\n",
      "Colmar\n",
      "Eguisheim\n",
      "Besancon\n",
      "Dijon\n",
      "Annecy\n",
      "Grenoble\n",
      "Lyon\n",
      "Gorges du Verdon\n",
      "Bormes les Mimosas\n",
      "Cassis\n",
      "Marseille\n",
      "Aix en Provence\n",
      "Avignon\n",
      "Uzes\n",
      "Nimes\n",
      "Aigues Mortes\n",
      "Saintes Maries de la mer\n",
      "Collioure\n",
      "Carcassonne\n",
      "Ariege\n",
      "Toulouse\n",
      "Montauban\n",
      "Biarritz\n",
      "Bayonne\n",
      "La Rochelle\n"
     ]
    }
   ],
   "source": [
    "for cities in ListofCities : \n",
    "    print(cities)"
   ]
  },
  {
   "cell_type": "code",
   "execution_count": 39,
   "metadata": {},
   "outputs": [],
   "source": [
    "ListofCitiesurl = []\n",
    "for i in ListofCities : \n",
    "    d=\"%20\".join(i.split())\n",
    "    ListofCitiesurl.append(d)"
   ]
  },
  {
   "cell_type": "code",
   "execution_count": 40,
   "metadata": {},
   "outputs": [
    {
     "data": {
      "text/plain": [
       "'Mont%20Saint%20Michel'"
      ]
     },
     "execution_count": 40,
     "metadata": {},
     "output_type": "execute_result"
    }
   ],
   "source": [
    "ListofCitiesurl[0]"
   ]
  },
  {
   "cell_type": "code",
   "execution_count": 41,
   "metadata": {},
   "outputs": [],
   "source": [
    "l = []\n",
    "for cities in ListofCitiesurl : \n",
    "    e = requests.get(f\"https://nominatim.openstreetmap.org/search?q={cities}&countrycodes=FR&limit=1&format=jsonv2\").json()\n",
    "    l +=e\n",
    "df_cities_latlon= pd.DataFrame(l)    \n",
    "df_cities_latlon.head() \n",
    "\n",
    "with open(\"/Users/fezzibasma/Desktop/Data/Data_Full-Stack/Data Collection & Management/ProjetBooking/I) data_extract/src/cities_API.json\", \"w\") as outfile:\n",
    "     json.dump(l, outfile)"
   ]
  },
  {
   "cell_type": "code",
   "execution_count": 42,
   "metadata": {},
   "outputs": [
    {
     "data": {
      "text/html": [
       "<div>\n",
       "<style scoped>\n",
       "    .dataframe tbody tr th:only-of-type {\n",
       "        vertical-align: middle;\n",
       "    }\n",
       "\n",
       "    .dataframe tbody tr th {\n",
       "        vertical-align: top;\n",
       "    }\n",
       "\n",
       "    .dataframe thead th {\n",
       "        text-align: right;\n",
       "    }\n",
       "</style>\n",
       "<table border=\"1\" class=\"dataframe\">\n",
       "  <thead>\n",
       "    <tr style=\"text-align: right;\">\n",
       "      <th></th>\n",
       "      <th>place_id</th>\n",
       "      <th>licence</th>\n",
       "      <th>osm_type</th>\n",
       "      <th>osm_id</th>\n",
       "      <th>boundingbox</th>\n",
       "      <th>lat</th>\n",
       "      <th>lon</th>\n",
       "      <th>display_name</th>\n",
       "      <th>place_rank</th>\n",
       "      <th>category</th>\n",
       "      <th>type</th>\n",
       "      <th>importance</th>\n",
       "      <th>icon</th>\n",
       "    </tr>\n",
       "  </thead>\n",
       "  <tbody>\n",
       "    <tr>\n",
       "      <th>0</th>\n",
       "      <td>156094680</td>\n",
       "      <td>Data © OpenStreetMap contributors, ODbL 1.0. h...</td>\n",
       "      <td>way</td>\n",
       "      <td>211285890</td>\n",
       "      <td>[48.6349172, 48.637031, -1.5133292, -1.5094796]</td>\n",
       "      <td>48.6359541</td>\n",
       "      <td>-1.511459954959514</td>\n",
       "      <td>Mont Saint-Michel, Plateforme du Saut-­Gaultie...</td>\n",
       "      <td>30</td>\n",
       "      <td>tourism</td>\n",
       "      <td>attraction</td>\n",
       "      <td>0.755437</td>\n",
       "      <td>https://nominatim.openstreetmap.org/ui/mapicon...</td>\n",
       "    </tr>\n",
       "  </tbody>\n",
       "</table>\n",
       "</div>"
      ],
      "text/plain": [
       "    place_id                                            licence osm_type  \\\n",
       "0  156094680  Data © OpenStreetMap contributors, ODbL 1.0. h...      way   \n",
       "\n",
       "      osm_id                                      boundingbox         lat  \\\n",
       "0  211285890  [48.6349172, 48.637031, -1.5133292, -1.5094796]  48.6359541   \n",
       "\n",
       "                  lon                                       display_name  \\\n",
       "0  -1.511459954959514  Mont Saint-Michel, Plateforme du Saut-­Gaultie...   \n",
       "\n",
       "   place_rank category        type  importance  \\\n",
       "0          30  tourism  attraction    0.755437   \n",
       "\n",
       "                                                icon  \n",
       "0  https://nominatim.openstreetmap.org/ui/mapicon...  "
      ]
     },
     "execution_count": 42,
     "metadata": {},
     "output_type": "execute_result"
    }
   ],
   "source": [
    "df_cities_latlon.head(1)"
   ]
  },
  {
   "cell_type": "code",
   "execution_count": 43,
   "metadata": {},
   "outputs": [],
   "source": [
    "#round de lat long pour les utiliser comme clé de jointure entre le df_weather et le df_cities_latlon\n",
    "l=[]\n",
    "h=[]\n",
    "for i in range(len(df_cities_latlon['lat'])) : \n",
    "    a=round(float(df_cities_latlon['lat'][i]),2)\n",
    "    o=round(float(df_cities_latlon['lon'][i]),2)\n",
    "    l.append(a)\n",
    "    h.append(o)\n",
    "df_cities_latlon['latitude']=l\n",
    "df_cities_latlon['longitude']=h"
   ]
  },
  {
   "cell_type": "code",
   "execution_count": 44,
   "metadata": {},
   "outputs": [],
   "source": [
    "df_cities_latlon=df_cities_latlon.drop(['lat','lon'],axis=1)"
   ]
  },
  {
   "cell_type": "code",
   "execution_count": 45,
   "metadata": {},
   "outputs": [
    {
     "name": "stdout",
     "output_type": "stream",
     "text": [
      "File is written to CSV File successfully.\n"
     ]
    }
   ],
   "source": [
    "df_cities_latlon\n",
    "#Let's see what is inside that Dataframe, I choosed CSV for 370 rows\n",
    "file_name = '/Users/fezzibasma/Desktop/Data Full-Stack/Data Collection & Management/ProjetBooking/III) tables_extract_csv/gps_cities.csv'\n",
    "df_cities_latlon.to_csv(file_name)\n",
    "print('File is written to CSV File successfully.')\n"
   ]
  },
  {
   "cell_type": "code",
   "execution_count": 46,
   "metadata": {},
   "outputs": [],
   "source": [
    "# RESULT = pd.DataFrame(result)[['latitude','longitude']].reset_index().drop(['index'], axis=1)\n",
    "# RESULT"
   ]
  },
  {
   "cell_type": "code",
   "execution_count": 47,
   "metadata": {},
   "outputs": [],
   "source": [
    "# RIZ= pd.DataFrame(result['daily']).reset_index().drop(['index'], axis=1)\n",
    "# RIZ"
   ]
  },
  {
   "cell_type": "code",
   "execution_count": 48,
   "metadata": {},
   "outputs": [],
   "source": [
    "# toto=pd.concat([RIZ,RESULT],join='outer',axis=1)\n",
    "# toto['latitude'] = toto['latitude'].fillna(RESULT['latitude'][0])\n",
    "# toto['longitude'] = toto['longitude'].fillna(RESULT['longitude'][0])\n",
    "# toto"
   ]
  },
  {
   "cell_type": "code",
   "execution_count": 49,
   "metadata": {},
   "outputs": [],
   "source": [
    "# base_url variable to store url\n",
    "base_url = \"https://api.open-meteo.com/v1/forecast?latitude={}&longitude={}&daily=temperature_2m_max,rain_sum&windspeed_unit=ms&timezone=Europe%2FBerlin&start_date=2022-09-29&end_date=2022-10-05\"\n",
    "\n",
    "# get method of requests module\n",
    "liste_latlong = []\n",
    "liste_daily = []\n",
    "for val in range(len(df_cities_latlon)) :\n",
    "    result = requests.get(base_url.format(df_cities_latlon.latitude[val],df_cities_latlon.longitude[val])).json()\n",
    "    \n",
    "    #selection\n",
    "    latlong = pd.DataFrame(result)[['latitude','longitude']]\n",
    "    latlong['city']=ListofCities[val]\n",
    "    liste_latlong.append(latlong)\n",
    "    df_latlog=pd.concat(liste_latlong)\n",
    "    df_latlog=df_latlog.reset_index().drop(['index'], axis=1)\n",
    "\n",
    "    #isolation de daily \n",
    "    daily = pd.DataFrame(result['daily'])#.reset_index().drop(['index'], axis=1)\n",
    "    daily['city']=ListofCities[val]\n",
    "    liste_daily.append(daily)\n",
    "    df_daily=pd.concat(liste_daily).reset_index().drop(['index'], axis=1)\n",
    "\n",
    "    df_weather_ofcities=df_daily.merge(df_latlog, on='city', how='left')\n",
    "    #df_weather_ofcities['latitude'] = df_weather_ofcities['latitude'].fillna(df_latlog['latitude'][val])\n",
    "    #df_weather_ofcities['longitude'] = df_weather_ofcities['longitude'].fillna(df_latlog['longitude'][val])\n",
    "    df_weather_ofcities\n",
    "\n",
    "#df_weather = pd.concat([df_daily,df_latlog],axis=1,join='outer')\n",
    "#df_weather"
   ]
  },
  {
   "cell_type": "code",
   "execution_count": 50,
   "metadata": {},
   "outputs": [
    {
     "data": {
      "text/html": [
       "<div>\n",
       "<style scoped>\n",
       "    .dataframe tbody tr th:only-of-type {\n",
       "        vertical-align: middle;\n",
       "    }\n",
       "\n",
       "    .dataframe tbody tr th {\n",
       "        vertical-align: top;\n",
       "    }\n",
       "\n",
       "    .dataframe thead th {\n",
       "        text-align: right;\n",
       "    }\n",
       "</style>\n",
       "<table border=\"1\" class=\"dataframe\">\n",
       "  <thead>\n",
       "    <tr style=\"text-align: right;\">\n",
       "      <th></th>\n",
       "      <th>time</th>\n",
       "      <th>temperature_2m_max</th>\n",
       "      <th>rain_sum</th>\n",
       "      <th>city</th>\n",
       "    </tr>\n",
       "  </thead>\n",
       "  <tbody>\n",
       "    <tr>\n",
       "      <th>0</th>\n",
       "      <td>2022-09-29</td>\n",
       "      <td>15.1</td>\n",
       "      <td>0.0</td>\n",
       "      <td>Mont Saint Michel</td>\n",
       "    </tr>\n",
       "    <tr>\n",
       "      <th>1</th>\n",
       "      <td>2022-09-30</td>\n",
       "      <td>16.0</td>\n",
       "      <td>0.7</td>\n",
       "      <td>Mont Saint Michel</td>\n",
       "    </tr>\n",
       "    <tr>\n",
       "      <th>2</th>\n",
       "      <td>2022-10-01</td>\n",
       "      <td>19.7</td>\n",
       "      <td>0.8</td>\n",
       "      <td>Mont Saint Michel</td>\n",
       "    </tr>\n",
       "    <tr>\n",
       "      <th>3</th>\n",
       "      <td>2022-10-02</td>\n",
       "      <td>20.0</td>\n",
       "      <td>0.0</td>\n",
       "      <td>Mont Saint Michel</td>\n",
       "    </tr>\n",
       "    <tr>\n",
       "      <th>4</th>\n",
       "      <td>2022-10-03</td>\n",
       "      <td>20.3</td>\n",
       "      <td>0.0</td>\n",
       "      <td>Mont Saint Michel</td>\n",
       "    </tr>\n",
       "    <tr>\n",
       "      <th>...</th>\n",
       "      <td>...</td>\n",
       "      <td>...</td>\n",
       "      <td>...</td>\n",
       "      <td>...</td>\n",
       "    </tr>\n",
       "    <tr>\n",
       "      <th>240</th>\n",
       "      <td>2022-10-01</td>\n",
       "      <td>19.0</td>\n",
       "      <td>4.2</td>\n",
       "      <td>La Rochelle</td>\n",
       "    </tr>\n",
       "    <tr>\n",
       "      <th>241</th>\n",
       "      <td>2022-10-02</td>\n",
       "      <td>19.2</td>\n",
       "      <td>0.0</td>\n",
       "      <td>La Rochelle</td>\n",
       "    </tr>\n",
       "    <tr>\n",
       "      <th>242</th>\n",
       "      <td>2022-10-03</td>\n",
       "      <td>21.7</td>\n",
       "      <td>0.0</td>\n",
       "      <td>La Rochelle</td>\n",
       "    </tr>\n",
       "    <tr>\n",
       "      <th>243</th>\n",
       "      <td>2022-10-04</td>\n",
       "      <td>20.7</td>\n",
       "      <td>0.0</td>\n",
       "      <td>La Rochelle</td>\n",
       "    </tr>\n",
       "    <tr>\n",
       "      <th>244</th>\n",
       "      <td>2022-10-05</td>\n",
       "      <td>20.1</td>\n",
       "      <td>0.0</td>\n",
       "      <td>La Rochelle</td>\n",
       "    </tr>\n",
       "  </tbody>\n",
       "</table>\n",
       "<p>245 rows × 4 columns</p>\n",
       "</div>"
      ],
      "text/plain": [
       "           time  temperature_2m_max  rain_sum               city\n",
       "0    2022-09-29                15.1       0.0  Mont Saint Michel\n",
       "1    2022-09-30                16.0       0.7  Mont Saint Michel\n",
       "2    2022-10-01                19.7       0.8  Mont Saint Michel\n",
       "3    2022-10-02                20.0       0.0  Mont Saint Michel\n",
       "4    2022-10-03                20.3       0.0  Mont Saint Michel\n",
       "..          ...                 ...       ...                ...\n",
       "240  2022-10-01                19.0       4.2        La Rochelle\n",
       "241  2022-10-02                19.2       0.0        La Rochelle\n",
       "242  2022-10-03                21.7       0.0        La Rochelle\n",
       "243  2022-10-04                20.7       0.0        La Rochelle\n",
       "244  2022-10-05                20.1       0.0        La Rochelle\n",
       "\n",
       "[245 rows x 4 columns]"
      ]
     },
     "execution_count": 50,
     "metadata": {},
     "output_type": "execute_result"
    }
   ],
   "source": [
    "df_daily"
   ]
  },
  {
   "cell_type": "code",
   "execution_count": 51,
   "metadata": {},
   "outputs": [
    {
     "data": {
      "text/html": [
       "<div>\n",
       "<style scoped>\n",
       "    .dataframe tbody tr th:only-of-type {\n",
       "        vertical-align: middle;\n",
       "    }\n",
       "\n",
       "    .dataframe tbody tr th {\n",
       "        vertical-align: top;\n",
       "    }\n",
       "\n",
       "    .dataframe thead th {\n",
       "        text-align: right;\n",
       "    }\n",
       "</style>\n",
       "<table border=\"1\" class=\"dataframe\">\n",
       "  <thead>\n",
       "    <tr style=\"text-align: right;\">\n",
       "      <th></th>\n",
       "      <th>latitude</th>\n",
       "      <th>longitude</th>\n",
       "      <th>city</th>\n",
       "    </tr>\n",
       "  </thead>\n",
       "  <tbody>\n",
       "    <tr>\n",
       "      <th>0</th>\n",
       "      <td>48.6200</td>\n",
       "      <td>-1.500</td>\n",
       "      <td>Mont Saint Michel</td>\n",
       "    </tr>\n",
       "    <tr>\n",
       "      <th>1</th>\n",
       "      <td>48.6200</td>\n",
       "      <td>-1.500</td>\n",
       "      <td>Mont Saint Michel</td>\n",
       "    </tr>\n",
       "    <tr>\n",
       "      <th>2</th>\n",
       "      <td>48.6200</td>\n",
       "      <td>-1.500</td>\n",
       "      <td>Mont Saint Michel</td>\n",
       "    </tr>\n",
       "    <tr>\n",
       "      <th>3</th>\n",
       "      <td>48.6250</td>\n",
       "      <td>-2.000</td>\n",
       "      <td>St Malo</td>\n",
       "    </tr>\n",
       "    <tr>\n",
       "      <th>4</th>\n",
       "      <td>48.6250</td>\n",
       "      <td>-2.000</td>\n",
       "      <td>St Malo</td>\n",
       "    </tr>\n",
       "    <tr>\n",
       "      <th>...</th>\n",
       "      <td>...</td>\n",
       "      <td>...</td>\n",
       "      <td>...</td>\n",
       "    </tr>\n",
       "    <tr>\n",
       "      <th>100</th>\n",
       "      <td>43.5000</td>\n",
       "      <td>-1.500</td>\n",
       "      <td>Bayonne</td>\n",
       "    </tr>\n",
       "    <tr>\n",
       "      <th>101</th>\n",
       "      <td>43.5000</td>\n",
       "      <td>-1.500</td>\n",
       "      <td>Bayonne</td>\n",
       "    </tr>\n",
       "    <tr>\n",
       "      <th>102</th>\n",
       "      <td>46.1875</td>\n",
       "      <td>-1.125</td>\n",
       "      <td>La Rochelle</td>\n",
       "    </tr>\n",
       "    <tr>\n",
       "      <th>103</th>\n",
       "      <td>46.1875</td>\n",
       "      <td>-1.125</td>\n",
       "      <td>La Rochelle</td>\n",
       "    </tr>\n",
       "    <tr>\n",
       "      <th>104</th>\n",
       "      <td>46.1875</td>\n",
       "      <td>-1.125</td>\n",
       "      <td>La Rochelle</td>\n",
       "    </tr>\n",
       "  </tbody>\n",
       "</table>\n",
       "<p>105 rows × 3 columns</p>\n",
       "</div>"
      ],
      "text/plain": [
       "     latitude  longitude               city\n",
       "0     48.6200     -1.500  Mont Saint Michel\n",
       "1     48.6200     -1.500  Mont Saint Michel\n",
       "2     48.6200     -1.500  Mont Saint Michel\n",
       "3     48.6250     -2.000            St Malo\n",
       "4     48.6250     -2.000            St Malo\n",
       "..        ...        ...                ...\n",
       "100   43.5000     -1.500            Bayonne\n",
       "101   43.5000     -1.500            Bayonne\n",
       "102   46.1875     -1.125        La Rochelle\n",
       "103   46.1875     -1.125        La Rochelle\n",
       "104   46.1875     -1.125        La Rochelle\n",
       "\n",
       "[105 rows x 3 columns]"
      ]
     },
     "execution_count": 51,
     "metadata": {},
     "output_type": "execute_result"
    }
   ],
   "source": [
    "df_latlog"
   ]
  },
  {
   "cell_type": "code",
   "execution_count": 53,
   "metadata": {},
   "outputs": [
    {
     "name": "stdout",
     "output_type": "stream",
     "text": [
      "File is written to CSV File successfully.\n"
     ]
    }
   ],
   "source": [
    "#Let's see what is inside that Dataframe, I choosed CSV for 370 rows\n",
    "\n",
    "file_name = '/Users/fezzibasma/Desktop/Data/Data_Full-Stack/Data Collection & Management/ProjetBooking/III) tables_extract_csv/meteo_ofcities_7days.csv'\n",
    "df_weather_ofcities.to_csv(file_name)\n",
    "print('File is written to CSV File successfully.')"
   ]
  }
 ],
 "metadata": {
  "kernelspec": {
   "display_name": "Python 3.9.12 ('base')",
   "language": "python",
   "name": "python3"
  },
  "language_info": {
   "codemirror_mode": {
    "name": "ipython",
    "version": 3
   },
   "file_extension": ".py",
   "mimetype": "text/x-python",
   "name": "python",
   "nbconvert_exporter": "python",
   "pygments_lexer": "ipython3",
   "version": "3.9.12 (main, Apr  5 2022, 01:53:17) \n[Clang 12.0.0 ]"
  },
  "orig_nbformat": 4,
  "vscode": {
   "interpreter": {
    "hash": "c386a4c445eb3548161d62d9e99880c15131eefd41ad49a5bd183d977518cd34"
   }
  }
 },
 "nbformat": 4,
 "nbformat_minor": 2
}
